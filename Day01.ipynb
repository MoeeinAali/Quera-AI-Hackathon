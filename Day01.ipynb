{
 "cells": [
  {
   "attachments": {},
   "cell_type": "markdown",
   "metadata": {},
   "source": [
    "<!DOCTYPE html>\n",
    "<html lang=\"en\">\n",
    "\n",
    "<head>\n",
    "    <meta charset=\"UTF-8\">\n",
    "</head>\n",
    "<style>\n",
    "    * {\n",
    "        font-family: 'Times New Roman', Times, serif;\n",
    "        font-weight: bolder;\n",
    "    }\n",
    "</style>\n",
    "\n",
    "<body>\n",
    "    <b>\n",
    "        <h1>Quera AI Hackathon</h1>\n",
    "        <h2>Day 01</h2>\n",
    "    </b>\n",
    "    <hr>\n",
    "    <hr>\n",
    "\n",
    "</body>\n",
    "\n",
    "</html>"
   ]
  },
  {
   "cell_type": "code",
   "execution_count": 3,
   "metadata": {},
   "outputs": [],
   "source": [
    "import numpy as np, pandas as pd\n",
    "import matplotlib.pyplot as plt"
   ]
  },
  {
   "attachments": {},
   "cell_type": "markdown",
   "metadata": {},
   "source": [
    "<!DOCTYPE html>\n",
    "<html lang=\"en\">\n",
    "\n",
    "<head>\n",
    "    <meta charset=\"UTF-8\">\n",
    "</head>\n",
    "<style>\n",
    "    * {\n",
    "        font-family: 'Times New Roman', Times, serif;\n",
    "    }\n",
    "</style>\n",
    "\n",
    "<body>\n",
    "<p>numpy : matrix - matlab functions </p>\n",
    "<p>pandas : data manipulation and analysis + numpy funtions </p>\n",
    "<p>matplotlib.pyplot : creating static, animated, and interactive visualizations in data analysis and scientific</p>\n",
    "<p>seaborn : specifically designed for creating informative and attractive statistical graphics</p>\n",
    "<hr>\n",
    "</body>\n",
    "\n",
    "</html>"
   ]
  },
  {
   "cell_type": "code",
   "execution_count": null,
   "metadata": {},
   "outputs": [],
   "source": []
  }
 ],
 "metadata": {
  "kernelspec": {
   "display_name": "Python 3",
   "language": "python",
   "name": "python3"
  },
  "language_info": {
   "codemirror_mode": {
    "name": "ipython",
    "version": 3
   },
   "file_extension": ".py",
   "mimetype": "text/x-python",
   "name": "python",
   "nbconvert_exporter": "python",
   "pygments_lexer": "ipython3",
   "version": "3.11.5"
  },
  "orig_nbformat": 4,
  "vscode": {
   "interpreter": {
    "hash": "c261aea317cc0286b3b3261fbba9abdec21eaa57589985bb7a274bf54d6cc0a7"
   }
  }
 },
 "nbformat": 4,
 "nbformat_minor": 2
}
